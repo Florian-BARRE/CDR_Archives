{
 "cells": [
  {
   "cell_type": "code",
   "execution_count": 132,
   "metadata": {},
   "outputs": [],
   "source": [
    "import math\n",
    "\n",
    "## On suppose que le angles sont tous en radians\n",
    "\n",
    "## Retourne une série de coordonée polaires en suposant que toutes les meusures sontéspacées de la même façon\n",
    "def scan_values_to_polar(scan_values,min_angle,max_angle):\n",
    "    angle_step = (max_angle - min_angle)/ len(scan_values)\n",
    "    polar_coordinates = []\n",
    "    for i in range(len(scan_values)):\n",
    "        polar_coordinates.append((min_angle + i *(angle_step),scan_values[i]))\n",
    "    return polar_coordinates"
   ]
  },
  {
   "cell_type": "code",
   "execution_count": 133,
   "metadata": {},
   "outputs": [],
   "source": [
    "def polar_to_cartesian(polar_coordinates):\n",
    "    cartesian_coordinates = []\n",
    "    \n",
    "    for coordinate in polar_coordinates:\n",
    "        cartesian_coordinates.append((coordinate[1]*math.cos(coordinate[0]),coordinate[1]*math.sin(coordinate[0])))\n",
    "    \n",
    "    return  cartesian_coordinates"
   ]
  },
  {
   "cell_type": "code",
   "execution_count": 134,
   "metadata": {},
   "outputs": [],
   "source": [
    "def threshold(polar_coordinates, threshold):\n",
    "    res = []\n",
    "    for coordinate in polar_coordinates:\n",
    "        if (coordinate[1] < threshold): res.append(coordinate)\n",
    "    return res"
   ]
  },
  {
   "cell_type": "code",
   "execution_count": 135,
   "metadata": {},
   "outputs": [],
   "source": [
    "\n",
    "def relative_to_absolute_cartesian_coordinates(cartesian_coordinates,robot_pos): ## robot_pos=(x,y,theta), theta is the way the robot is turned\n",
    "    res = []\n",
    "    for coordinate in cartesian_coordinates:\n",
    "        res.append((robot_pos[0]+coordinate[0]*math.cos(robot_pos[2]),robot_pos[1]+coordinate[1]*math.sin(robot_pos[2])))\n",
    "    return res"
   ]
  },
  {
   "cell_type": "code",
   "execution_count": 136,
   "metadata": {},
   "outputs": [],
   "source": [
    "def is_under_threshold(polar_coordinates, threshold):\n",
    "    return (min([x[1] for x in polar_coordinates]) < threshold)"
   ]
  },
  {
   "cell_type": "code",
   "execution_count": 137,
   "metadata": {},
   "outputs": [
    {
     "name": "stdout",
     "output_type": "stream",
     "text": [
      "[(-3.141592653589793, 100), (-2.443460952792061, 150), (-1.7453292519943295, 200), (-1.0471975511965979, 250), (-0.34906585039886595, 300), (0.34906585039886595, 250), (1.0471975511965974, 200), (1.7453292519943293, 150), (2.443460952792061, 100)]\n",
      "[(-3.141592653589793, 100), (-2.443460952792061, 150), (1.7453292519943293, 150), (2.443460952792061, 100)]\n",
      "True\n",
      "False\n",
      "[(-100.0, -1.2246467991473532e-14), (-114.90666646784669, -96.41814145298092), (-26.047226650039512, 147.72116295183122), (-76.6044443118978, 64.27876096865394)]\n",
      "[(100.0, 49.999999999999986), (100.0, -46.41814145298092), (100.0, 197.72116295183122), (100.0, 114.27876096865394)]\n"
     ]
    }
   ],
   "source": [
    "scan_values = [100, 150, 200, 250, 300, 250, 200, 150, 100]\n",
    "distances = scan_values_to_polar(scan_values, -math.pi,math.pi)\n",
    "print(distances)\n",
    "distances = threshold(distances,200)\n",
    "print(distances)\n",
    "print(is_under_threshold(distances,200))\n",
    "print(is_under_threshold(distances,50))\n",
    "distances = polar_to_cartesian(distances)\n",
    "print(distances)\n",
    "distances = relative_to_absolute_cartesian_coordinates(distances,(100,50,math.pi/2))\n",
    "print(distances)"
   ]
  }
 ],
 "metadata": {
  "kernelspec": {
   "display_name": "Python 3",
   "language": "python",
   "name": "python3"
  },
  "language_info": {
   "codemirror_mode": {
    "name": "ipython",
    "version": 3
   },
   "file_extension": ".py",
   "mimetype": "text/x-python",
   "name": "python",
   "nbconvert_exporter": "python",
   "pygments_lexer": "ipython3",
   "version": "3.10.1"
  },
  "orig_nbformat": 4
 },
 "nbformat": 4,
 "nbformat_minor": 2
}
